{
 "cells": [
  {
   "cell_type": "code",
   "execution_count": 71,
   "metadata": {},
   "outputs": [],
   "source": [
    "import os,sys\n",
    "import xlrd\n",
    "import math\n",
    "import pandas as pd\n",
    "from pandas.tools.plotting import scatter_matrix\n",
    "import numpy as np\n",
    "import matplotlib.pyplot as plt\n",
    "plt.style.use('ggplot')\n",
    "%matplotlib inline\n",
    "from sklearn.cross_validation import ShuffleSplit\n",
    "from sklearn.cross_validation import train_test_split\n",
    "from sklearn import metrics as mt\n",
    "import seaborn as sns\n",
    "import datetime\n",
    "import time\n",
    "from sklearn.datasets import make_classification\n",
    "from sklearn.linear_model import LogisticRegression\n",
    "from sklearn.ensemble import (RandomTreesEmbedding, RandomForestClassifier,\n",
    "                              GradientBoostingClassifier)\n",
    "from sklearn.preprocessing import OneHotEncoder\n",
    "from sklearn.cross_validation import train_test_split\n",
    "from sklearn.metrics import roc_curve\n",
    "from sklearn.pipeline import make_pipeline\n",
    "from sklearn import metrics as mt\n",
    "from sklearn.metrics import roc_curve, auc\n",
    "import pylab as p\n",
    "from sklearn import tree\n",
    "from io import BytesIO as StringIO\n",
    "from IPython.display import Image\n",
    "import pydotplus"
   ]
  },
  {
   "cell_type": "code",
   "execution_count": 7,
   "metadata": {},
   "outputs": [
    {
     "name": "stdout",
     "output_type": "stream",
     "text": [
      "email_table shape :  (100000, 7)\n",
      "email_opened_table.shape :  (10345, 1)\n",
      "link_clicked_table.shape :  (2119, 1)\n"
     ]
    }
   ],
   "source": [
    "email_table = pd.read_csv(\"/Users/Student/Desktop/email/email_table.csv\")\n",
    "print (\"email_table shape : \", email_table.shape)\n",
    "\n",
    "email_opened_table = pd.read_csv(\"/Users/Student/Desktop/email/email_opened_table.csv\")\n",
    "print (\"email_opened_table.shape : \", email_opened_table.shape)\n",
    "\n",
    "link_clicked_table = pd.read_csv(\"/Users/Student/Desktop/email/link_clicked_table.csv\")\n",
    "print (\"link_clicked_table.shape : \", link_clicked_table.shape)"
   ]
  },
  {
   "cell_type": "code",
   "execution_count": 9,
   "metadata": {},
   "outputs": [
    {
     "name": "stdout",
     "output_type": "stream",
     "text": [
      "True\n",
      "True\n",
      "True\n"
     ]
    }
   ],
   "source": [
    "#Let's create one data set # are there dupes?\n",
    "print (len(email_table['email_id'].unique()) == len(email_table['email_id']))\n",
    "print (len(email_opened_table['email_id'].unique()) == len(email_opened_table['email_id']))\n",
    "print (len(link_clicked_table['email_id'].unique()) == len(link_clicked_table['email_id']))"
   ]
  },
  {
   "cell_type": "code",
   "execution_count": 10,
   "metadata": {},
   "outputs": [],
   "source": [
    "email_opened_table['email_opened']=1\n",
    "link_clicked_table['link_clicked']=1"
   ]
  },
  {
   "cell_type": "code",
   "execution_count": 11,
   "metadata": {},
   "outputs": [],
   "source": [
    "dataframe = email_table.merge(email_opened_table, how='left', on='email_id')  #this way we don't lose data\n",
    "dataframe = dataframe.merge(link_clicked_table, how='left', on='email_id')  #this way we don't lose data"
   ]
  },
  {
   "cell_type": "code",
   "execution_count": 13,
   "metadata": {},
   "outputs": [
    {
     "data": {
      "text/plain": [
       "email_id                 int64\n",
       "email_text              object\n",
       "email_version           object\n",
       "hour                     int64\n",
       "weekday                 object\n",
       "user_country            object\n",
       "user_past_purchases      int64\n",
       "email_opened           float64\n",
       "link_clicked           float64\n",
       "dtype: object"
      ]
     },
     "execution_count": 13,
     "metadata": {},
     "output_type": "execute_result"
    }
   ],
   "source": [
    "dataframe.dtypes"
   ]
  },
  {
   "cell_type": "code",
   "execution_count": 14,
   "metadata": {},
   "outputs": [
    {
     "data": {
      "text/html": [
       "<div>\n",
       "<style scoped>\n",
       "    .dataframe tbody tr th:only-of-type {\n",
       "        vertical-align: middle;\n",
       "    }\n",
       "\n",
       "    .dataframe tbody tr th {\n",
       "        vertical-align: top;\n",
       "    }\n",
       "\n",
       "    .dataframe thead th {\n",
       "        text-align: right;\n",
       "    }\n",
       "</style>\n",
       "<table border=\"1\" class=\"dataframe\">\n",
       "  <thead>\n",
       "    <tr style=\"text-align: right;\">\n",
       "      <th></th>\n",
       "      <th>email_id</th>\n",
       "      <th>email_text</th>\n",
       "      <th>email_version</th>\n",
       "      <th>hour</th>\n",
       "      <th>weekday</th>\n",
       "      <th>user_country</th>\n",
       "      <th>user_past_purchases</th>\n",
       "      <th>email_opened</th>\n",
       "      <th>link_clicked</th>\n",
       "    </tr>\n",
       "  </thead>\n",
       "  <tbody>\n",
       "    <tr>\n",
       "      <th>0</th>\n",
       "      <td>85120</td>\n",
       "      <td>short_email</td>\n",
       "      <td>personalized</td>\n",
       "      <td>2</td>\n",
       "      <td>Sunday</td>\n",
       "      <td>US</td>\n",
       "      <td>5</td>\n",
       "      <td>NaN</td>\n",
       "      <td>NaN</td>\n",
       "    </tr>\n",
       "    <tr>\n",
       "      <th>1</th>\n",
       "      <td>966622</td>\n",
       "      <td>long_email</td>\n",
       "      <td>personalized</td>\n",
       "      <td>12</td>\n",
       "      <td>Sunday</td>\n",
       "      <td>UK</td>\n",
       "      <td>2</td>\n",
       "      <td>1.0</td>\n",
       "      <td>1.0</td>\n",
       "    </tr>\n",
       "    <tr>\n",
       "      <th>2</th>\n",
       "      <td>777221</td>\n",
       "      <td>long_email</td>\n",
       "      <td>personalized</td>\n",
       "      <td>11</td>\n",
       "      <td>Wednesday</td>\n",
       "      <td>US</td>\n",
       "      <td>2</td>\n",
       "      <td>NaN</td>\n",
       "      <td>NaN</td>\n",
       "    </tr>\n",
       "    <tr>\n",
       "      <th>3</th>\n",
       "      <td>493711</td>\n",
       "      <td>short_email</td>\n",
       "      <td>generic</td>\n",
       "      <td>6</td>\n",
       "      <td>Monday</td>\n",
       "      <td>UK</td>\n",
       "      <td>1</td>\n",
       "      <td>NaN</td>\n",
       "      <td>NaN</td>\n",
       "    </tr>\n",
       "    <tr>\n",
       "      <th>4</th>\n",
       "      <td>106887</td>\n",
       "      <td>long_email</td>\n",
       "      <td>generic</td>\n",
       "      <td>14</td>\n",
       "      <td>Monday</td>\n",
       "      <td>US</td>\n",
       "      <td>6</td>\n",
       "      <td>NaN</td>\n",
       "      <td>NaN</td>\n",
       "    </tr>\n",
       "  </tbody>\n",
       "</table>\n",
       "</div>"
      ],
      "text/plain": [
       "   email_id   email_text email_version  hour    weekday user_country  \\\n",
       "0     85120  short_email  personalized     2     Sunday           US   \n",
       "1    966622   long_email  personalized    12     Sunday           UK   \n",
       "2    777221   long_email  personalized    11  Wednesday           US   \n",
       "3    493711  short_email       generic     6     Monday           UK   \n",
       "4    106887   long_email       generic    14     Monday           US   \n",
       "\n",
       "   user_past_purchases  email_opened  link_clicked  \n",
       "0                    5           NaN           NaN  \n",
       "1                    2           1.0           1.0  \n",
       "2                    2           NaN           NaN  \n",
       "3                    1           NaN           NaN  \n",
       "4                    6           NaN           NaN  "
      ]
     },
     "execution_count": 14,
     "metadata": {},
     "output_type": "execute_result"
    }
   ],
   "source": [
    "dataframe.head()"
   ]
  },
  {
   "cell_type": "code",
   "execution_count": 15,
   "metadata": {},
   "outputs": [],
   "source": [
    "dataframe = dataframe.fillna({\n",
    "    'email_opened': 0,\n",
    "    'link_clicked': 0})"
   ]
  },
  {
   "cell_type": "code",
   "execution_count": 16,
   "metadata": {},
   "outputs": [],
   "source": [
    "dataframe['sum_check']=dataframe['email_opened']+dataframe['link_clicked']"
   ]
  },
  {
   "cell_type": "code",
   "execution_count": 20,
   "metadata": {},
   "outputs": [],
   "source": [
    "def test_robust_merge (df_col, sum_value):    \n",
    "    for i in xrange(len(df_col)):\n",
    "        if df_col.iloc[i] ==1:\n",
    "            if dataframe['sum_check'].iloc[i] <sum_value:\n",
    "                print (\"Error in row\", i)\n",
    "                return False\n",
    "    return True"
   ]
  },
  {
   "cell_type": "code",
   "execution_count": 25,
   "metadata": {},
   "outputs": [
    {
     "ename": "NameError",
     "evalue": "name 'xrange' is not defined",
     "output_type": "error",
     "traceback": [
      "\u001b[0;31m---------------------------------------------------------------------------\u001b[0m",
      "\u001b[0;31mNameError\u001b[0m                                 Traceback (most recent call last)",
      "\u001b[0;32m<ipython-input-25-a94561a14f50>\u001b[0m in \u001b[0;36m<module>\u001b[0;34m()\u001b[0m\n\u001b[0;32m----> 1\u001b[0;31m \u001b[0mprint\u001b[0m \u001b[0;34m(\u001b[0m\u001b[0mtest_robust_merge\u001b[0m \u001b[0;34m(\u001b[0m\u001b[0mdataframe\u001b[0m\u001b[0;34m[\u001b[0m\u001b[0;34m'email_opened'\u001b[0m\u001b[0;34m]\u001b[0m\u001b[0;34m,\u001b[0m\u001b[0;36m1\u001b[0m\u001b[0;34m)\u001b[0m\u001b[0;34m)\u001b[0m\u001b[0;34m\u001b[0m\u001b[0m\n\u001b[0m\u001b[1;32m      2\u001b[0m \u001b[0mprint\u001b[0m \u001b[0;34m(\u001b[0m\u001b[0mtest_robust_merge\u001b[0m \u001b[0;34m(\u001b[0m\u001b[0mdataframe\u001b[0m\u001b[0;34m[\u001b[0m\u001b[0;34m'link_clicked'\u001b[0m\u001b[0;34m]\u001b[0m\u001b[0;34m,\u001b[0m\u001b[0;36m2\u001b[0m\u001b[0;34m)\u001b[0m\u001b[0;34m)\u001b[0m\u001b[0;34m\u001b[0m\u001b[0m\n",
      "\u001b[0;32m<ipython-input-20-c9b0d5a8e953>\u001b[0m in \u001b[0;36mtest_robust_merge\u001b[0;34m(df_col, sum_value)\u001b[0m\n\u001b[1;32m      1\u001b[0m \u001b[0;32mdef\u001b[0m \u001b[0mtest_robust_merge\u001b[0m \u001b[0;34m(\u001b[0m\u001b[0mdf_col\u001b[0m\u001b[0;34m,\u001b[0m \u001b[0msum_value\u001b[0m\u001b[0;34m)\u001b[0m\u001b[0;34m:\u001b[0m\u001b[0;34m\u001b[0m\u001b[0m\n\u001b[0;32m----> 2\u001b[0;31m     \u001b[0;32mfor\u001b[0m \u001b[0mi\u001b[0m \u001b[0;32min\u001b[0m \u001b[0mxrange\u001b[0m\u001b[0;34m(\u001b[0m\u001b[0mlen\u001b[0m\u001b[0;34m(\u001b[0m\u001b[0mdf_col\u001b[0m\u001b[0;34m)\u001b[0m\u001b[0;34m)\u001b[0m\u001b[0;34m:\u001b[0m\u001b[0;34m\u001b[0m\u001b[0m\n\u001b[0m\u001b[1;32m      3\u001b[0m         \u001b[0;32mif\u001b[0m \u001b[0mdf_col\u001b[0m\u001b[0;34m.\u001b[0m\u001b[0miloc\u001b[0m\u001b[0;34m[\u001b[0m\u001b[0mi\u001b[0m\u001b[0;34m]\u001b[0m \u001b[0;34m==\u001b[0m\u001b[0;36m1\u001b[0m\u001b[0;34m:\u001b[0m\u001b[0;34m\u001b[0m\u001b[0m\n\u001b[1;32m      4\u001b[0m             \u001b[0;32mif\u001b[0m \u001b[0mdataframe\u001b[0m\u001b[0;34m[\u001b[0m\u001b[0;34m'sum_check'\u001b[0m\u001b[0;34m]\u001b[0m\u001b[0;34m.\u001b[0m\u001b[0miloc\u001b[0m\u001b[0;34m[\u001b[0m\u001b[0mi\u001b[0m\u001b[0;34m]\u001b[0m \u001b[0;34m<\u001b[0m\u001b[0msum_value\u001b[0m\u001b[0;34m:\u001b[0m\u001b[0;34m\u001b[0m\u001b[0m\n\u001b[1;32m      5\u001b[0m                 \u001b[0mprint\u001b[0m \u001b[0;34m(\u001b[0m\u001b[0;34m\"Error in row\"\u001b[0m\u001b[0;34m,\u001b[0m \u001b[0mi\u001b[0m\u001b[0;34m)\u001b[0m\u001b[0;34m\u001b[0m\u001b[0m\n",
      "\u001b[0;31mNameError\u001b[0m: name 'xrange' is not defined"
     ]
    }
   ],
   "source": [
    "print (test_robust_merge (dataframe['email_opened'],1))\n",
    "print (test_robust_merge (dataframe['link_clicked'],2))"
   ]
  },
  {
   "cell_type": "code",
   "execution_count": 26,
   "metadata": {},
   "outputs": [
    {
     "data": {
      "text/plain": [
       "email_id                   104883\n",
       "email_text             long_email\n",
       "email_version             generic\n",
       "hour                           14\n",
       "weekday                    Friday\n",
       "user_country                   US\n",
       "user_past_purchases             7\n",
       "email_opened                    0\n",
       "link_clicked                    1\n",
       "sum_check                       1\n",
       "Name: 3156, dtype: object"
      ]
     },
     "execution_count": 26,
     "metadata": {},
     "output_type": "execute_result"
    }
   ],
   "source": [
    "dataframe.iloc[3156]"
   ]
  },
  {
   "cell_type": "code",
   "execution_count": 27,
   "metadata": {},
   "outputs": [],
   "source": [
    "dataframe = dataframe[dataframe['email_id']!=104883]"
   ]
  },
  {
   "cell_type": "code",
   "execution_count": 32,
   "metadata": {},
   "outputs": [],
   "source": [
    "def examine_data_frame( df):\n",
    "    for name in df.columns:\n",
    "        print (\"----------\")\n",
    "        print (df[ name].dtype)\n",
    "        if df[ name].dtype is np.dtype( 'O'):\n",
    "            print (df[ name].value_counts())\n",
    "            print (\"Name: \", name)\n",
    "        else:\n",
    "            print (df[ name].describe())"
   ]
  },
  {
   "cell_type": "code",
   "execution_count": 33,
   "metadata": {},
   "outputs": [
    {
     "name": "stdout",
     "output_type": "stream",
     "text": [
      "----------\n",
      "int64\n",
      "count     99999.000000\n",
      "mean     498694.134271\n",
      "std      289229.492658\n",
      "min           8.000000\n",
      "25%      246726.000000\n",
      "50%      498452.000000\n",
      "75%      749943.500000\n",
      "max      999998.000000\n",
      "Name: email_id, dtype: float64\n",
      "----------\n",
      "object\n",
      "long_email     50275\n",
      "short_email    49724\n",
      "Name: email_text, dtype: int64\n",
      "Name:  email_text\n",
      "----------\n",
      "object\n",
      "generic         50208\n",
      "personalized    49791\n",
      "Name: email_version, dtype: int64\n",
      "Name:  email_version\n",
      "----------\n",
      "int64\n",
      "count    99999.000000\n",
      "mean         9.059251\n",
      "std          4.439632\n",
      "min          1.000000\n",
      "25%          6.000000\n",
      "50%          9.000000\n",
      "75%         12.000000\n",
      "max         24.000000\n",
      "Name: hour, dtype: float64\n",
      "----------\n",
      "object\n",
      "Saturday     14569\n",
      "Sunday       14387\n",
      "Monday       14363\n",
      "Thursday     14277\n",
      "Friday       14176\n",
      "Tuesday      14143\n",
      "Wednesday    14084\n",
      "Name: weekday, dtype: int64\n",
      "Name:  weekday\n",
      "----------\n",
      "object\n",
      "US    60098\n",
      "UK    19939\n",
      "FR     9995\n",
      "ES     9967\n",
      "Name: user_country, dtype: int64\n",
      "Name:  user_country\n",
      "----------\n",
      "int64\n",
      "count    99999.000000\n",
      "mean         3.878419\n",
      "std          3.196111\n",
      "min          0.000000\n",
      "25%          1.000000\n",
      "50%          3.000000\n",
      "75%          6.000000\n",
      "max         22.000000\n",
      "Name: user_past_purchases, dtype: float64\n",
      "----------\n",
      "float64\n",
      "count    99999.000000\n",
      "mean         0.103451\n",
      "std          0.304549\n",
      "min          0.000000\n",
      "25%          0.000000\n",
      "50%          0.000000\n",
      "75%          0.000000\n",
      "max          1.000000\n",
      "Name: email_opened, dtype: float64\n",
      "----------\n",
      "float64\n",
      "count    99999.000000\n",
      "mean         0.021180\n",
      "std          0.143985\n",
      "min          0.000000\n",
      "25%          0.000000\n",
      "50%          0.000000\n",
      "75%          0.000000\n",
      "max          1.000000\n",
      "Name: link_clicked, dtype: float64\n",
      "----------\n",
      "float64\n",
      "count    99999.000000\n",
      "mean         0.124631\n",
      "std          0.387918\n",
      "min          0.000000\n",
      "25%          0.000000\n",
      "50%          0.000000\n",
      "75%          0.000000\n",
      "max          2.000000\n",
      "Name: sum_check, dtype: float64\n"
     ]
    }
   ],
   "source": [
    "examine_data_frame(dataframe)"
   ]
  },
  {
   "cell_type": "code",
   "execution_count": 35,
   "metadata": {},
   "outputs": [
    {
     "name": "stdout",
     "output_type": "stream",
     "text": [
      "10.345\n"
     ]
    }
   ],
   "source": [
    "print ((len(email_opened_table)/float(100000))*100) # % of user opened emails"
   ]
  },
  {
   "cell_type": "code",
   "execution_count": 36,
   "metadata": {},
   "outputs": [
    {
     "name": "stdout",
     "output_type": "stream",
     "text": [
      "20.483325277912034\n"
     ]
    }
   ],
   "source": [
    "print ((len(link_clicked_table)/float(len(email_opened_table)))*100) # % of user opened emails"
   ]
  },
  {
   "cell_type": "code",
   "execution_count": 38,
   "metadata": {},
   "outputs": [
    {
     "name": "stdout",
     "output_type": "stream",
     "text": [
      "Printing email opened & links clicked by country\n",
      "              email_opened  link_clicked\n",
      "user_country                            \n",
      "ES                0.039129      0.008327\n",
      "FR                0.040620      0.008004\n",
      "UK                0.120167      0.024675\n",
      "US                0.119022      0.024344\n"
     ]
    },
    {
     "data": {
      "image/png": "[encoded data removed]",
      "text/plain": [
       "<Figure size 576x432 with 1 Axes>"
      ]
     },
     "metadata": {
      "needs_background": "light"
     },
     "output_type": "display_data"
    }
   ],
   "source": [
    "df = dataframe[['email_opened','link_clicked', 'user_country']]\n",
    "df_grpmean=df.groupby('user_country').mean()\n",
    "print (\"Printing email opened & links clicked by country\")\n",
    "print\n",
    "print (df_grpmean)\n",
    "transposed_df = df_grpmean.transpose()\n",
    "print\n",
    "import matplotlib.pyplot as plt\n",
    "ax = transposed_df[['US','UK','FR','ES']].plot(kind='bar', title =\"Email marketing success by country \", figsize=(8, 6), legend=True, fontsize=12)\n",
    "ax.set_xlabel(\"Country\", fontsize=12)\n",
    "ax.set_ylabel(\"Mean email opened & links clicked by country\", fontsize=12)\n",
    "plt.show()"
   ]
  },
  {
   "cell_type": "code",
   "execution_count": 39,
   "metadata": {},
   "outputs": [
    {
     "name": "stdout",
     "output_type": "stream",
     "text": [
      "Printing email opened & links clicked by weekday\n",
      "           email_opened  link_clicked\n",
      "weekday                              \n",
      "Friday         0.074139      0.013967\n",
      "Monday         0.116062      0.022906\n",
      "Saturday       0.087652      0.017846\n",
      "Sunday         0.087649      0.016751\n",
      "Thursday       0.118442      0.024445\n",
      "Tuesday        0.120484      0.024889\n",
      "Wednesday      0.120278      0.027620\n"
     ]
    },
    {
     "data": {
      "image/png": "[encoded data removed]",
      "text/plain": [
       "<Figure size 576x432 with 1 Axes>"
      ]
     },
     "metadata": {
      "needs_background": "light"
     },
     "output_type": "display_data"
    }
   ],
   "source": [
    "df = dataframe[['email_opened','link_clicked', 'weekday']]\n",
    "df_grpmean=df.groupby('weekday').mean()\n",
    "print (\"Printing email opened & links clicked by weekday\")\n",
    "print\n",
    "print (df_grpmean)\n",
    "transposed_df = df_grpmean.transpose()\n",
    "print\n",
    "import matplotlib.pyplot as plt\n",
    "ax = transposed_df[['Sunday','Monday','Tuesday','Wednesday','Thursday','Friday','Saturday']].plot(kind='bar', title =\"Email marketing success by weekday \", figsize=(8, 6), legend=True, fontsize=12)\n",
    "ax.set_xlabel(\"Analysis by Weekday \", fontsize=12)\n",
    "ax.set_ylabel(\"Mean email opened & links clicked by weekday\", fontsize=12)\n",
    "plt.show()"
   ]
  },
  {
   "cell_type": "code",
   "execution_count": 40,
   "metadata": {},
   "outputs": [
    {
     "data": {
      "text/plain": [
       "Text(0.5,0,'Hour of the day')"
      ]
     },
     "execution_count": 40,
     "metadata": {},
     "output_type": "execute_result"
    },
    {
     "data": {
      "image/png": "[encoded data removed]",
      "text/plain": [
       "<Figure size 432x288 with 1 Axes>"
      ]
     },
     "metadata": {
      "needs_background": "light"
     },
     "output_type": "display_data"
    }
   ],
   "source": [
    "df3 = dataframe[(dataframe['link_clicked'] ==1)]\n",
    "y3,binEdges=np.histogram(df3[ \"hour\"], bins =24)\n",
    "p.plot(y3,'-',label='link_clicked')\n",
    "p.legend(loc='center left', bbox_to_anchor=(1, 0.5))\n",
    "p.title(\"Time series for a day\")\n",
    "p.xlabel(\"Hour of the day\")\n",
    "\n",
    "\n",
    "df3 = dataframe[(dataframe['email_opened'] ==1)]\n",
    "y3,binEdges=np.histogram(df3[ \"hour\"], bins =24)\n",
    "p.plot(y3,'-',label='email_opened')\n",
    "p.legend(loc='center left', bbox_to_anchor=(1, 0.5))\n",
    "p.title(\"Time series for a day\")\n",
    "p.xlabel(\"Hour of the day\")"
   ]
  },
  {
   "cell_type": "code",
   "execution_count": 41,
   "metadata": {},
   "outputs": [],
   "source": [
    "def numeric_week(x):\n",
    "    if x == 'Sunday':\n",
    "        return 0\n",
    "    elif x == 'Monday':\n",
    "        return 24\n",
    "    elif x=='Tuesday':\n",
    "        return 48\n",
    "    elif x=='Wednesday':\n",
    "        return 72\n",
    "    elif x == 'Thursday':\n",
    "        return 96\n",
    "    elif x == 'Friday':\n",
    "        return 120\n",
    "    else:\n",
    "        return 144"
   ]
  },
  {
   "cell_type": "code",
   "execution_count": 42,
   "metadata": {},
   "outputs": [],
   "source": [
    "dataframe['numeric_week'] = dataframe['weekday'].map(numeric_week) # Keep education column for EDA"
   ]
  },
  {
   "cell_type": "code",
   "execution_count": 43,
   "metadata": {},
   "outputs": [],
   "source": [
    "dataframe['hour_of_week'] = (dataframe['hour'] +dataframe['numeric_week'])"
   ]
  },
  {
   "cell_type": "code",
   "execution_count": 44,
   "metadata": {},
   "outputs": [
    {
     "data": {
      "text/plain": [
       "Text(0.5,0,'Hour of the week (Total 168)')"
      ]
     },
     "execution_count": 44,
     "metadata": {},
     "output_type": "execute_result"
    },
    {
     "data": {
      "image/png": "[encoded data removed]",
      "text/plain": [
       "<Figure size 432x288 with 1 Axes>"
      ]
     },
     "metadata": {
      "needs_background": "light"
     },
     "output_type": "display_data"
    }
   ],
   "source": [
    "df3 = dataframe[(dataframe['link_clicked'] ==1)]\n",
    "y3,binEdges=np.histogram(df3[ \"hour_of_week\"], bins =168)\n",
    "p.plot(y3,'-',label='link_clicked')\n",
    "p.legend(loc='center left', bbox_to_anchor=(1, 0.5))\n",
    "p.title(\"Time series for whole week\")\n",
    "p.xlabel(\"Hour of the week (Total 168)\")\n",
    "\n",
    "\n",
    "df3 = dataframe[(dataframe['email_opened'] ==1)]\n",
    "y3,binEdges=np.histogram(df3[ \"hour_of_week\"], bins =168)\n",
    "p.plot(y3,'-',label='email_opened')\n",
    "p.legend(loc='center left', bbox_to_anchor=(1, 0.5))\n",
    "p.title(\"Time series for whole week\")\n",
    "p.xlabel(\"Hour of the week (Total 168)\")"
   ]
  },
  {
   "cell_type": "code",
   "execution_count": 46,
   "metadata": {},
   "outputs": [
    {
     "name": "stdout",
     "output_type": "stream",
     "text": [
      "       email_opened\n",
      "count  0.0             89654.000000\n",
      "       1.0             10345.000000\n",
      "mean   0.0                 3.785118\n",
      "       1.0                 4.686999\n",
      "std    0.0                 3.169900\n",
      "       1.0                 3.306502\n",
      "min    0.0                 0.000000\n",
      "       1.0                 0.000000\n",
      "25%    0.0                 1.000000\n",
      "       1.0                 2.000000\n",
      "50%    0.0                 3.000000\n",
      "       1.0                 4.000000\n",
      "75%    0.0                 6.000000\n",
      "       1.0                 7.000000\n",
      "max    0.0                21.000000\n",
      "       1.0                22.000000\n",
      "dtype: float64\n"
     ]
    }
   ],
   "source": [
    "grouped = dataframe.groupby( \"email_opened\")\n",
    "email_opened = grouped[ \"user_past_purchases\"].describe()\n",
    "email_opened = email_opened.unstack( level=-1)\n",
    "print (email_opened)"
   ]
  },
  {
   "cell_type": "code",
   "execution_count": 49,
   "metadata": {},
   "outputs": [
    {
     "name": "stdout",
     "output_type": "stream",
     "text": [
      "       email_opened\n",
      "count  0.0             89654.000000\n",
      "       1.0             10345.000000\n",
      "mean   0.0                 3.785118\n",
      "       1.0                 4.686999\n",
      "std    0.0                 3.169900\n",
      "       1.0                 3.306502\n",
      "min    0.0                 0.000000\n",
      "       1.0                 0.000000\n",
      "25%    0.0                 1.000000\n",
      "       1.0                 2.000000\n",
      "50%    0.0                 3.000000\n",
      "       1.0                 4.000000\n",
      "75%    0.0                 6.000000\n",
      "       1.0                 7.000000\n",
      "max    0.0                21.000000\n",
      "       1.0                22.000000\n",
      "dtype: float64\n"
     ]
    }
   ],
   "source": [
    "grouped  ==  dataframe.groupby( \"link_clicked\")\n",
    "link_clicked = grouped[ \"user_past_purchases\"].describe()\n",
    "link_clicked = link_clicked.unstack( level=-1)\n",
    "print (link_clicked)"
   ]
  },
  {
   "cell_type": "code",
   "execution_count": 50,
   "metadata": {},
   "outputs": [
    {
     "data": {
      "text/html": [
       "<div>\n",
       "<style scoped>\n",
       "    .dataframe tbody tr th:only-of-type {\n",
       "        vertical-align: middle;\n",
       "    }\n",
       "\n",
       "    .dataframe tbody tr th {\n",
       "        vertical-align: top;\n",
       "    }\n",
       "\n",
       "    .dataframe thead th {\n",
       "        text-align: right;\n",
       "    }\n",
       "</style>\n",
       "<table border=\"1\" class=\"dataframe\">\n",
       "  <thead>\n",
       "    <tr style=\"text-align: right;\">\n",
       "      <th></th>\n",
       "      <th>email_text_long_email</th>\n",
       "      <th>email_text_short_email</th>\n",
       "      <th>email_version_generic</th>\n",
       "      <th>email_version_personalized</th>\n",
       "      <th>user_country_ES</th>\n",
       "      <th>user_country_FR</th>\n",
       "      <th>user_country_UK</th>\n",
       "      <th>user_country_US</th>\n",
       "      <th>weekday_Friday</th>\n",
       "      <th>weekday_Monday</th>\n",
       "      <th>...</th>\n",
       "      <th>email_version</th>\n",
       "      <th>hour</th>\n",
       "      <th>weekday</th>\n",
       "      <th>user_country</th>\n",
       "      <th>user_past_purchases</th>\n",
       "      <th>email_opened</th>\n",
       "      <th>link_clicked</th>\n",
       "      <th>sum_check</th>\n",
       "      <th>numeric_week</th>\n",
       "      <th>hour_of_week</th>\n",
       "    </tr>\n",
       "  </thead>\n",
       "  <tbody>\n",
       "    <tr>\n",
       "      <th>0</th>\n",
       "      <td>0</td>\n",
       "      <td>1</td>\n",
       "      <td>0</td>\n",
       "      <td>1</td>\n",
       "      <td>0</td>\n",
       "      <td>0</td>\n",
       "      <td>0</td>\n",
       "      <td>1</td>\n",
       "      <td>0</td>\n",
       "      <td>0</td>\n",
       "      <td>...</td>\n",
       "      <td>personalized</td>\n",
       "      <td>2</td>\n",
       "      <td>Sunday</td>\n",
       "      <td>US</td>\n",
       "      <td>5</td>\n",
       "      <td>0.0</td>\n",
       "      <td>0.0</td>\n",
       "      <td>0.0</td>\n",
       "      <td>0</td>\n",
       "      <td>2</td>\n",
       "    </tr>\n",
       "    <tr>\n",
       "      <th>1</th>\n",
       "      <td>1</td>\n",
       "      <td>0</td>\n",
       "      <td>0</td>\n",
       "      <td>1</td>\n",
       "      <td>0</td>\n",
       "      <td>0</td>\n",
       "      <td>1</td>\n",
       "      <td>0</td>\n",
       "      <td>0</td>\n",
       "      <td>0</td>\n",
       "      <td>...</td>\n",
       "      <td>personalized</td>\n",
       "      <td>12</td>\n",
       "      <td>Sunday</td>\n",
       "      <td>UK</td>\n",
       "      <td>2</td>\n",
       "      <td>1.0</td>\n",
       "      <td>1.0</td>\n",
       "      <td>2.0</td>\n",
       "      <td>0</td>\n",
       "      <td>12</td>\n",
       "    </tr>\n",
       "    <tr>\n",
       "      <th>2</th>\n",
       "      <td>1</td>\n",
       "      <td>0</td>\n",
       "      <td>0</td>\n",
       "      <td>1</td>\n",
       "      <td>0</td>\n",
       "      <td>0</td>\n",
       "      <td>0</td>\n",
       "      <td>1</td>\n",
       "      <td>0</td>\n",
       "      <td>0</td>\n",
       "      <td>...</td>\n",
       "      <td>personalized</td>\n",
       "      <td>11</td>\n",
       "      <td>Wednesday</td>\n",
       "      <td>US</td>\n",
       "      <td>2</td>\n",
       "      <td>0.0</td>\n",
       "      <td>0.0</td>\n",
       "      <td>0.0</td>\n",
       "      <td>72</td>\n",
       "      <td>83</td>\n",
       "    </tr>\n",
       "    <tr>\n",
       "      <th>3</th>\n",
       "      <td>0</td>\n",
       "      <td>1</td>\n",
       "      <td>1</td>\n",
       "      <td>0</td>\n",
       "      <td>0</td>\n",
       "      <td>0</td>\n",
       "      <td>1</td>\n",
       "      <td>0</td>\n",
       "      <td>0</td>\n",
       "      <td>1</td>\n",
       "      <td>...</td>\n",
       "      <td>generic</td>\n",
       "      <td>6</td>\n",
       "      <td>Monday</td>\n",
       "      <td>UK</td>\n",
       "      <td>1</td>\n",
       "      <td>0.0</td>\n",
       "      <td>0.0</td>\n",
       "      <td>0.0</td>\n",
       "      <td>24</td>\n",
       "      <td>30</td>\n",
       "    </tr>\n",
       "    <tr>\n",
       "      <th>4</th>\n",
       "      <td>1</td>\n",
       "      <td>0</td>\n",
       "      <td>1</td>\n",
       "      <td>0</td>\n",
       "      <td>0</td>\n",
       "      <td>0</td>\n",
       "      <td>0</td>\n",
       "      <td>1</td>\n",
       "      <td>0</td>\n",
       "      <td>1</td>\n",
       "      <td>...</td>\n",
       "      <td>generic</td>\n",
       "      <td>14</td>\n",
       "      <td>Monday</td>\n",
       "      <td>US</td>\n",
       "      <td>6</td>\n",
       "      <td>0.0</td>\n",
       "      <td>0.0</td>\n",
       "      <td>0.0</td>\n",
       "      <td>24</td>\n",
       "      <td>38</td>\n",
       "    </tr>\n",
       "  </tbody>\n",
       "</table>\n",
       "<p>5 rows × 27 columns</p>\n",
       "</div>"
      ],
      "text/plain": [
       "   email_text_long_email  email_text_short_email  email_version_generic  \\\n",
       "0                      0                       1                      0   \n",
       "1                      1                       0                      0   \n",
       "2                      1                       0                      0   \n",
       "3                      0                       1                      1   \n",
       "4                      1                       0                      1   \n",
       "\n",
       "   email_version_personalized  user_country_ES  user_country_FR  \\\n",
       "0                           1                0                0   \n",
       "1                           1                0                0   \n",
       "2                           1                0                0   \n",
       "3                           0                0                0   \n",
       "4                           0                0                0   \n",
       "\n",
       "   user_country_UK  user_country_US  weekday_Friday  weekday_Monday  \\\n",
       "0                0                1               0               0   \n",
       "1                1                0               0               0   \n",
       "2                0                1               0               0   \n",
       "3                1                0               0               1   \n",
       "4                0                1               0               1   \n",
       "\n",
       "      ...       email_version  hour    weekday  user_country  \\\n",
       "0     ...        personalized     2     Sunday            US   \n",
       "1     ...        personalized    12     Sunday            UK   \n",
       "2     ...        personalized    11  Wednesday            US   \n",
       "3     ...             generic     6     Monday            UK   \n",
       "4     ...             generic    14     Monday            US   \n",
       "\n",
       "   user_past_purchases  email_opened link_clicked sum_check  numeric_week  \\\n",
       "0                    5           0.0          0.0       0.0             0   \n",
       "1                    2           1.0          1.0       2.0             0   \n",
       "2                    2           0.0          0.0       0.0            72   \n",
       "3                    1           0.0          0.0       0.0            24   \n",
       "4                    6           0.0          0.0       0.0            24   \n",
       "\n",
       "  hour_of_week  \n",
       "0            2  \n",
       "1           12  \n",
       "2           83  \n",
       "3           30  \n",
       "4           38  \n",
       "\n",
       "[5 rows x 27 columns]"
      ]
     },
     "execution_count": 50,
     "metadata": {},
     "output_type": "execute_result"
    }
   ],
   "source": [
    "cols =['email_text', 'email_version', 'user_country','weekday']\n",
    "data_1 = dataframe[cols]\n",
    "data_dummies = pd.get_dummies(data_1)\n",
    "result_df = pd.concat([data_dummies, dataframe], axis=1)\n",
    "result_df.head()"
   ]
  },
  {
   "cell_type": "code",
   "execution_count": 56,
   "metadata": {},
   "outputs": [
    {
     "name": "stderr",
     "output_type": "stream",
     "text": [
      "/Users/Student/anaconda3/lib/python3.7/site-packages/sklearn/utils/validation.py:475: DataConversionWarning: Data with input dtype int64 was converted to float64 by StandardScaler.\n",
      "  warnings.warn(msg, DataConversionWarning)\n",
      "/Users/Student/anaconda3/lib/python3.7/site-packages/sklearn/utils/validation.py:475: DataConversionWarning: Data with input dtype int64 was converted to float64 by StandardScaler.\n",
      "  warnings.warn(msg, DataConversionWarning)\n",
      "/Users/Student/anaconda3/lib/python3.7/site-packages/sklearn/utils/validation.py:475: DataConversionWarning: Data with input dtype int64 was converted to float64 by StandardScaler.\n",
      "  warnings.warn(msg, DataConversionWarning)\n"
     ]
    },
    {
     "name": "stdout",
     "output_type": "stream",
     "text": [
      "Most important features..\n",
      "email_text_long_email has weight of -0.14336712897365048\n",
      "email_version_personalized has weight of 0.27631534964354176\n",
      "user_country_ES has weight of -0.25792060862560867\n",
      "user_country_FR has weight of -0.2526323333075984\n",
      "user_country_UK has weight of 0.15912543696831052\n",
      "user_country_US has weight of 0.18280554310131142\n",
      "weekday_Friday has weight of -0.12780918692430995\n",
      "weekday_Monday has weight of 0.0477364155664934\n",
      "weekday_Saturday has weight of -0.05294399575593619\n",
      "weekday_Sunday has weight of -0.06267786533916116\n",
      "weekday_Thursday has weight of 0.05949294536403332\n",
      "weekday_Tuesday has weight of 0.06582242557587609\n",
      "weekday_Wednesday has weight of 0.07108167023783868\n",
      "hour has weight of 0.10255899709826759\n",
      "user_past_purchases has weight of 0.2921944955409709\n",
      "accuracy: 0.5891\n",
      "Confusion matrix : \n",
      "[[5205 3737]\n",
      " [ 372  686]]\n",
      "ROC AUC: 0.61\n"
     ]
    },
    {
     "data": {
      "image/png": "[encoded data removed]",
      "text/plain": [
       "<Figure size 432x288 with 1 Axes>"
      ]
     },
     "metadata": {
      "needs_background": "light"
     },
     "output_type": "display_data"
    },
    {
     "name": "stdout",
     "output_type": "stream",
     "text": [
      "Classification Report..\n",
      "             precision    recall  f1-score   support\n",
      "\n",
      "        0.0       0.93      0.58      0.72      8942\n",
      "        1.0       0.16      0.65      0.25      1058\n",
      "\n",
      "avg / total       0.85      0.59      0.67     10000\n",
      "\n",
      "Plot of most important features...\n"
     ]
    },
    {
     "data": {
      "image/png": "[encoded data removed]",
      "text/plain": [
       "<Figure size 432x288 with 1 Axes>"
      ]
     },
     "metadata": {},
     "output_type": "display_data"
    }
   ],
   "source": [
    "result_df2 = result_df[['email_text_long_email',\n",
    "       'email_version_personalized',\n",
    "       'user_country_ES', 'user_country_FR', 'user_country_UK',\n",
    "       'user_country_US', 'weekday_Friday', 'weekday_Monday',\n",
    "       'weekday_Saturday', 'weekday_Sunday', 'weekday_Thursday',\n",
    "       'weekday_Tuesday', 'weekday_Wednesday', 'hour','user_past_purchases','email_opened']]\n",
    "y = result_df2['email_opened'].values\n",
    "X = result_df2[['email_text_long_email',\n",
    "       'email_version_personalized',\n",
    "       'user_country_ES', 'user_country_FR', 'user_country_UK',\n",
    "       'user_country_US', 'weekday_Friday', 'weekday_Monday',\n",
    "       'weekday_Saturday', 'weekday_Sunday', 'weekday_Thursday',\n",
    "       'weekday_Tuesday', 'weekday_Wednesday', 'hour','user_past_purchases']].values\n",
    "\n",
    "X_train, X_test, y_train, y_test = train_test_split(X, y, test_size=0.1)\n",
    "\n",
    "from sklearn.preprocessing import StandardScaler\n",
    "\n",
    "# scale attributes by the training set\n",
    "scl_obj = StandardScaler()\n",
    "scl_obj.fit(X_train) # find scalings for each column that make this zero mean and unit std\n",
    "X_train_scaled = scl_obj.transform(X_train) # apply to training\n",
    "X_test_scaled = scl_obj.transform(X_test) # apply those means and std to the test set (without snooping at the test set values)\n",
    "\n",
    "lr_clf = LogisticRegression(penalty='l2', C=0.05, class_weight=\"balanced\") # get object, the 'C' value is less (can you guess why??)\n",
    "lr_clf.fit(X_train_scaled,y_train)  # train object\n",
    "\n",
    "y_hat = lr_clf.predict(X_test_scaled) # get test set precitions\n",
    "\n",
    "# sort these attributes and spit them out\n",
    "zip_vars = zip(lr_clf.coef_.T,result_df2.columns) # combine attributes\n",
    "#zip_vars.sort(key = lambda t: np.abs(t[0]), reverse=True) # sort them by the magnitude of the weight\n",
    "print (\"Most important features..\")\n",
    "for coef, name in zip_vars:\n",
    "    print (name, 'has weight of', coef[0]) # now print them out\n",
    "print    \n",
    "# Determine the false positive and true positive rates\n",
    "acc = mt.accuracy_score(y_test,y_hat)\n",
    "conf = mt.confusion_matrix(y_test,y_hat)\n",
    "print ('accuracy:', acc) \n",
    "print (\"Confusion matrix : \")\n",
    "print (conf)\n",
    "print \n",
    "\n",
    "fpr, tpr, _ = roc_curve(y_test, lr_clf.predict_proba(X_test)[:,1])\n",
    "\n",
    "# Calculate the AUC\n",
    "roc_auc = auc(fpr, tpr)\n",
    "print ('ROC AUC: %0.2f' % roc_auc)\n",
    " \n",
    "# Plot of a ROC curve for a specific class\n",
    "plt.figure()\n",
    "plt.plot(fpr, tpr, label='ROC curve (area = %0.2f)' % roc_auc)\n",
    "plt.plot([0, 1], [0, 1], 'k--')\n",
    "plt.xlim([0.0, 1.0])\n",
    "plt.ylim([0.0, 1.05])\n",
    "plt.xlabel('False Positive Rate')\n",
    "plt.ylabel('True Positive Rate')\n",
    "plt.title('ROC Curve')\n",
    "plt.legend(loc=\"lower right\")\n",
    "plt.show()\n",
    "\n",
    "print\n",
    "print (\"Classification Report..\")\n",
    "from sklearn.metrics import classification_report\n",
    "print(classification_report(y_test, y_hat))\n",
    "\n",
    "print (\"Plot of most important features...\")\n",
    "# now let's make a pandas Series with the names and values, and plot them\n",
    "from matplotlib import pyplot as plt\n",
    "%matplotlib inline\n",
    "plt.style.use('ggplot')\n",
    "\n",
    "weights = pd.Series(lr_clf.coef_[0], index = ['email_text_long_email',\n",
    "       'email_version_personalized',\n",
    "       'user_country_ES', 'user_country_FR', 'user_country_UK',\n",
    "       'user_country_US', 'weekday_Friday', 'weekday_Monday',\n",
    "       'weekday_Saturday', 'weekday_Sunday', 'weekday_Thursday',\n",
    "       'weekday_Tuesday', 'weekday_Wednesday', 'hour','user_past_purchases'])\n",
    "weights.plot(kind='bar')\n",
    "plt.show()"
   ]
  },
  {
   "cell_type": "code",
   "execution_count": 61,
   "metadata": {},
   "outputs": [
    {
     "name": "stderr",
     "output_type": "stream",
     "text": [
      "/Users/Student/anaconda3/lib/python3.7/site-packages/sklearn/utils/validation.py:475: DataConversionWarning: Data with input dtype int64 was converted to float64 by StandardScaler.\n",
      "  warnings.warn(msg, DataConversionWarning)\n",
      "/Users/Student/anaconda3/lib/python3.7/site-packages/sklearn/utils/validation.py:475: DataConversionWarning: Data with input dtype int64 was converted to float64 by StandardScaler.\n",
      "  warnings.warn(msg, DataConversionWarning)\n",
      "/Users/Student/anaconda3/lib/python3.7/site-packages/sklearn/utils/validation.py:475: DataConversionWarning: Data with input dtype int64 was converted to float64 by StandardScaler.\n",
      "  warnings.warn(msg, DataConversionWarning)\n"
     ]
    },
    {
     "name": "stdout",
     "output_type": "stream",
     "text": [
      "Most important features..\n",
      "email_text_long_email has weight of -0.13691576719627213\n",
      "email_version_personalized has weight of 0.3239342939077502\n",
      "user_country_ES has weight of -0.25095906353313785\n",
      "user_country_FR has weight of -0.24239352927550722\n",
      "user_country_UK has weight of 0.1641383458304061\n",
      "user_country_US has weight of 0.16841346814508876\n",
      "weekday_Friday has weight of -0.14324303256828644\n",
      "weekday_Monday has weight of 0.04367398562611597\n",
      "weekday_Saturday has weight of -0.05676858352250705\n",
      "weekday_Sunday has weight of -0.07240877504022758\n",
      "weekday_Thursday has weight of 0.062317502660079176\n",
      "weekday_Tuesday has weight of 0.06124796967553959\n",
      "weekday_Wednesday has weight of 0.10601382897469042\n",
      "hour has weight of 0.08257629981456431\n",
      "user_past_purchases has weight of 0.674305364409906\n",
      "accuracy: 0.6803\n",
      "Confusion matrix : \n",
      "[[6670 3127]\n",
      " [  70  133]]\n",
      "ROC AUC: 0.71\n"
     ]
    },
    {
     "data": {
      "image/png": "[encoded data removed]",
      "text/plain": [
       "<Figure size 432x288 with 1 Axes>"
      ]
     },
     "metadata": {},
     "output_type": "display_data"
    },
    {
     "name": "stdout",
     "output_type": "stream",
     "text": [
      "Classification Report..\n",
      "             precision    recall  f1-score   support\n",
      "\n",
      "        0.0       0.99      0.68      0.81      9797\n",
      "        1.0       0.04      0.66      0.08       203\n",
      "\n",
      "avg / total       0.97      0.68      0.79     10000\n",
      "\n",
      "Plot of most important features...\n"
     ]
    },
    {
     "data": {
      "image/png": "[encoded data removed]",
      "text/plain": [
       "<Figure size 432x288 with 1 Axes>"
      ]
     },
     "metadata": {},
     "output_type": "display_data"
    }
   ],
   "source": [
    "result_df2 = result_df[['email_text_long_email',\n",
    "       'email_version_personalized',\n",
    "       'user_country_ES', 'user_country_FR', 'user_country_UK',\n",
    "       'user_country_US', 'weekday_Friday', 'weekday_Monday',\n",
    "       'weekday_Saturday', 'weekday_Sunday', 'weekday_Thursday',\n",
    "       'weekday_Tuesday', 'weekday_Wednesday', 'hour','user_past_purchases','link_clicked']]\n",
    "y = result_df2['link_clicked'].values\n",
    "X = result_df2[['email_text_long_email',\n",
    "       'email_version_personalized',\n",
    "       'user_country_ES', 'user_country_FR', 'user_country_UK',\n",
    "       'user_country_US', 'weekday_Friday', 'weekday_Monday',\n",
    "       'weekday_Saturday', 'weekday_Sunday', 'weekday_Thursday',\n",
    "       'weekday_Tuesday', 'weekday_Wednesday', 'hour','user_past_purchases']].values\n",
    "\n",
    "X_train, X_test, y_train, y_test = train_test_split(X, y, test_size=0.1)\n",
    "\n",
    "from sklearn.preprocessing import StandardScaler\n",
    "\n",
    "# scale attributes by the training set\n",
    "scl_obj = StandardScaler()\n",
    "scl_obj.fit(X_train) # find scalings for each column that make this zero mean and unit std\n",
    "X_train_scaled = scl_obj.transform(X_train) # apply to training\n",
    "X_test_scaled = scl_obj.transform(X_test) # apply those means and std to the test set (without snooping at the test set values)\n",
    "\n",
    "lr_clf = LogisticRegression(penalty='l2', C=0.05, class_weight=\"balanced\") # get object, the 'C' value is less (can you guess why??)\n",
    "lr_clf.fit(X_train_scaled,y_train)  # train object\n",
    "\n",
    "y_hat = lr_clf.predict(X_test_scaled) # get test set precitions\n",
    "\n",
    "# sort these attributes and spit them out\n",
    "zip_vars = zip(lr_clf.coef_.T,result_df2.columns) # combine attributes\n",
    "#zip_vars.sort(key = lambda t: np.abs(t[0]), reverse=True) # sort them by the magnitude of the weight\n",
    "print (\"Most important features..\")\n",
    "for coef, name in zip_vars:\n",
    "    print (name, 'has weight of', coef[0]) # now print them out\n",
    "print    \n",
    "# Determine the false positive and true positive rates\n",
    "acc = mt.accuracy_score(y_test,y_hat)\n",
    "conf = mt.confusion_matrix(y_test,y_hat)\n",
    "print ('accuracy:', acc) \n",
    "print (\"Confusion matrix : \")\n",
    "print (conf)\n",
    "print \n",
    "\n",
    "fpr, tpr, _ = roc_curve(y_test, lr_clf.predict_proba(X_test)[:,1])\n",
    "\n",
    "# Calculate the AUC\n",
    "roc_auc = auc(fpr, tpr)\n",
    "print ('ROC AUC: %0.2f' % roc_auc)\n",
    " \n",
    "# Plot of a ROC curve for a specific class\n",
    "plt.figure()\n",
    "plt.plot(fpr, tpr, label='ROC curve (area = %0.2f)' % roc_auc)\n",
    "plt.plot([0, 1], [0, 1], 'k--')\n",
    "plt.xlim([0.0, 1.0])\n",
    "plt.ylim([0.0, 1.05])\n",
    "plt.xlabel('False Positive Rate')\n",
    "plt.ylabel('True Positive Rate')\n",
    "plt.title('ROC Curve')\n",
    "plt.legend(loc=\"lower right\")\n",
    "plt.show()\n",
    "\n",
    "print\n",
    "print (\"Classification Report..\")\n",
    "from sklearn.metrics import classification_report\n",
    "print(classification_report(y_test, y_hat))\n",
    "\n",
    "print (\"Plot of most important features...\")\n",
    "# now let's make a pandas Series with the names and values, and plot them\n",
    "from matplotlib import pyplot as plt\n",
    "%matplotlib inline\n",
    "plt.style.use('ggplot')\n",
    "\n",
    "weights = pd.Series(lr_clf.coef_[0], index = ['email_text_long_email',\n",
    "       'email_version_personalized',\n",
    "       'user_country_ES', 'user_country_FR', 'user_country_UK',\n",
    "       'user_country_US', 'weekday_Friday', 'weekday_Monday',\n",
    "       'weekday_Saturday', 'weekday_Sunday', 'weekday_Thursday',\n",
    "       'weekday_Tuesday', 'weekday_Wednesday', 'hour','user_past_purchases'])\n",
    "weights.plot(kind='bar')\n",
    "plt.show()"
   ]
  },
  {
   "cell_type": "code",
   "execution_count": 62,
   "metadata": {},
   "outputs": [],
   "source": [
    "result_df['past_purchases>=6'] = result_df['user_past_purchases'].apply(lambda x: 1 if x >=6 else 0)"
   ]
  },
  {
   "cell_type": "code",
   "execution_count": 64,
   "metadata": {},
   "outputs": [
    {
     "name": "stdout",
     "output_type": "stream",
     "text": [
      "27473\n"
     ]
    }
   ],
   "source": [
    "len(result_df)\n",
    "print (result_df['past_purchases>=6'].sum()) # total number of user out of 100,000"
   ]
  },
  {
   "cell_type": "code",
   "execution_count": 65,
   "metadata": {},
   "outputs": [],
   "source": [
    "test_df = result_df[result_df['past_purchases>=6']==1]"
   ]
  },
  {
   "cell_type": "code",
   "execution_count": 67,
   "metadata": {},
   "outputs": [
    {
     "name": "stdout",
     "output_type": "stream",
     "text": [
      "1.3677853459449025\n"
     ]
    }
   ],
   "source": [
    "test_df2 = result_df[result_df['past_purchases>=6']==0]\n",
    "print ((test_df2['link_clicked'].sum())/float(len(test_df2))*100) # % of users clicked link with past purchases <5.5"
   ]
  },
  {
   "cell_type": "code",
   "execution_count": 68,
   "metadata": {},
   "outputs": [
    {
     "name": "stdout",
     "output_type": "stream",
     "text": [
      "4.09856950460452\n"
     ]
    }
   ],
   "source": [
    "print ((test_df['link_clicked'].sum())/float(len(test_df))*100) # % of users clicked link with past purchases >=5.5"
   ]
  },
  {
   "cell_type": "code",
   "execution_count": 69,
   "metadata": {},
   "outputs": [
    {
     "ename": "ModuleNotFoundError",
     "evalue": "No module named 'imblearn'",
     "output_type": "error",
     "traceback": [
      "\u001b[0;31m---------------------------------------------------------------------------\u001b[0m",
      "\u001b[0;31mModuleNotFoundError\u001b[0m                       Traceback (most recent call last)",
      "\u001b[0;32m<ipython-input-69-ebb7f4ebaae8>\u001b[0m in \u001b[0;36m<module>\u001b[0;34m()\u001b[0m\n\u001b[1;32m      1\u001b[0m \u001b[0;32mfrom\u001b[0m \u001b[0mcollections\u001b[0m \u001b[0;32mimport\u001b[0m \u001b[0mCounter\u001b[0m\u001b[0;34m\u001b[0m\u001b[0m\n\u001b[1;32m      2\u001b[0m \u001b[0;32mfrom\u001b[0m \u001b[0msklearn\u001b[0m\u001b[0;34m.\u001b[0m\u001b[0mdatasets\u001b[0m \u001b[0;32mimport\u001b[0m \u001b[0mmake_classification\u001b[0m\u001b[0;34m\u001b[0m\u001b[0m\n\u001b[0;32m----> 3\u001b[0;31m \u001b[0;32mfrom\u001b[0m \u001b[0mimblearn\u001b[0m\u001b[0;34m.\u001b[0m\u001b[0mover_sampling\u001b[0m \u001b[0;32mimport\u001b[0m \u001b[0mSMOTE\u001b[0m\u001b[0;34m\u001b[0m\u001b[0m\n\u001b[0m\u001b[1;32m      4\u001b[0m \u001b[0;34m\u001b[0m\u001b[0m\n\u001b[1;32m      5\u001b[0m X = result_df[['email_text_long_email',\n",
      "\u001b[0;31mModuleNotFoundError\u001b[0m: No module named 'imblearn'"
     ]
    }
   ],
   "source": [
    "from collections import Counter\n",
    "from sklearn.datasets import make_classification\n",
    "from imblearn.over_sampling import SMOTE\n",
    "\n",
    "X = result_df[['email_text_long_email',\n",
    "       'email_version_personalized',\n",
    "       'user_country_ES', 'user_country_FR', 'user_country_UK',\n",
    "       'user_country_US', 'weekday_Friday', 'weekday_Monday',\n",
    "       'weekday_Saturday', 'weekday_Sunday', 'weekday_Thursday',\n",
    "       'weekday_Tuesday', 'weekday_Wednesday', 'hour','user_past_purchases','link_clicked','email_opened']]\n",
    "y = result_df['past_purchases>=6']\n",
    "\n",
    "print('Original dataset shape {}'.format(Counter(y)))\n",
    "sm = SMOTE(kind = 'regular')\n",
    "X_res, y_res = sm.fit_sample(X, y)\n",
    "print('Resampled dataset shape {}'.format(Counter(y_res)))"
   ]
  },
  {
   "cell_type": "code",
   "execution_count": null,
   "metadata": {},
   "outputs": [],
   "source": []
  }
 ],
 "metadata": {
  "kernelspec": {
   "display_name": "Python 3",
   "language": "python",
   "name": "python3"
  },
  "language_info": {
   "codemirror_mode": {
    "name": "ipython",
    "version": 3
   },
   "file_extension": ".py",
   "mimetype": "text/x-python",
   "name": "python",
   "nbconvert_exporter": "python",
   "pygments_lexer": "ipython3",
   "version": "3.7.0"
  }
 },
 "nbformat": 4,
 "nbformat_minor": 2
}
